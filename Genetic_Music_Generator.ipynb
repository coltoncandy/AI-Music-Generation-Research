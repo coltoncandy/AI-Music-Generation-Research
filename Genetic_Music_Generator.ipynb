{
  "nbformat": 4,
  "nbformat_minor": 0,
  "metadata": {
    "colab": {
      "name": "AI Music Generation Research",
      "provenance": [],
      "collapsed_sections": [],
      "authorship_tag": "ABX9TyO6hduWFklsAJWHc5FKDCBE",
      "include_colab_link": true
    },
    "kernelspec": {
      "name": "python3",
      "display_name": "Python 3"
    }
  },
  "cells": [
    {
      "cell_type": "markdown",
      "metadata": {
        "id": "view-in-github",
        "colab_type": "text"
      },
      "source": [
        "<a href=\"https://colab.research.google.com/github/coltoncandy/AI-Music-Generation-Research/blob/main/Genetic_Music_Generator.ipynb\" target=\"_parent\"><img src=\"https://colab.research.google.com/assets/colab-badge.svg\" alt=\"Open In Colab\"/></a>"
      ]
    },
    {
      "cell_type": "code",
      "metadata": {
        "colab": {
          "base_uri": "https://localhost:8080/"
        },
        "id": "lPdyFi3GdJ-N",
        "outputId": "608c7b17-ec9d-4a66-823c-f52ceddbf043"
      },
      "source": [
        "from google.colab import drive\n",
        "drive.mount('/content/gdrive', force_remount=True)\n",
        "PROJECT_PATH = \"/content/gdrive/Shareddrives/AI Winter 2021 Group Project/Genetic Algorithm 1.0.0\""
      ],
      "execution_count": 2,
      "outputs": [
        {
          "output_type": "stream",
          "text": [
            "Mounted at /content/gdrive\n"
          ],
          "name": "stdout"
        }
      ]
    },
    {
      "cell_type": "code",
      "execution_count": null,
      "metadata": {},
      "outputs": [],
      "source": [
        "\n",
        "# this should be a list of tuples\n",
        "# the tuples should be as follows: (r, m, l)\n",
        "# where r is a boolean being True if it is a rest note\n",
        "# m is a midi note number from 0-127 (it is ignored if r is true)\n",
        "# l is the length in 16ths (it should range from 1-16)\n",
        "notes = []\n",
        "\n",
        "# Colton fix this please, I'm not sure how to get the right directory for the midi songs from google drive\n",
        "# dos.mid is just a random one I chose\n",
        "input = converter.parse(\"midi_songs/dos.mid\").flat.elements\n",
        "\n",
        "# for each note in the input stream, turn it into a tuple\n",
        "# ignore anything that is not a note or a rest\n",
        "for n in input:\n",
        "    if isinstance(n, note.Note):\n",
        "        notes.append((False, n.pitch.midi, n.quarterLength * 4))\n",
        "    if isinstance(n, note.Rest):\n",
        "        notes.append((True, 0, n.quarterLength * 4))\n",
        "\n",
        "output = stream.Stream()\n",
        "\n",
        "for cur_note in notes:\n",
        "    new_note = None\n",
        "\n",
        "    if cur_note[0]:\n",
        "        new_note = note.Rest(cur_note, duration=duration.Duration(cur_note[2]/4))\n",
        "    else:\n",
        "        new_note = note.Note(cur_note[1], duration=duration.Duration(cur_note[2]/4))\n",
        "    \n",
        "    output.append(new_note)\n",
        "\n",
        "output.show('midi')\n",
        "output.write('midi', fp='test.midi')"
      ]
    }
  ]
}