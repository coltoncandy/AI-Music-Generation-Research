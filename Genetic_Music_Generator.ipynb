{
  "nbformat": 4,
  "nbformat_minor": 0,
  "metadata": {
    "colab": {
      "name": "AI Music Generation Research",
      "provenance": [],
      "collapsed_sections": [],
      "include_colab_link": true
    },
    "kernelspec": {
      "name": "python3",
      "display_name": "Python 3",
      "language": "python"
    }
  },
  "cells": [
    {
      "cell_type": "markdown",
      "metadata": {
        "id": "view-in-github",
        "colab_type": "text"
      },
      "source": [
        "<a href=\"https://colab.research.google.com/github/coltoncandy/AI-Music-Generation-Research/blob/andys-branch/Genetic_Music_Generator.ipynb\" target=\"_parent\"><img src=\"https://colab.research.google.com/assets/colab-badge.svg\" alt=\"Open In Colab\"/></a>"
      ]
    },
    {
      "cell_type": "markdown",
      "metadata": {
        "id": "2cuam9t1ObNe"
      },
      "source": [
        "# Optional - mount Google Drive to load and store midi files\n",
        "\n",
        "*You can mount the google drive from the file menu instead of the first code cell*\n",
        "\n",
        "*If you use the first code cell, you must authenticate with the account that has access to the drive*\n",
        "\n",
        "***Please note that you may need to change the PROJECT_PATH variable to the directory with the compressed cache***\n"
      ]
    },
    {
      "cell_type": "code",
      "metadata": {
        "colab": {
          "base_uri": "https://localhost:8080/"
        },
        "id": "lPdyFi3GdJ-N",
        "outputId": "608c7b17-ec9d-4a66-823c-f52ceddbf043"
      },
      "source": [
        "from google.colab import drive\n",
        "drive.mount('/content/gdrive', force_remount=True)\n",
        "PROJECT_PATH = \"/content/gdrive/Shareddrives/AI Winter 2021 Group Project/Genetic Algorithm 1.0.0\""
      ],
      "execution_count": null,
      "outputs": [
        {
          "output_type": "stream",
          "text": [
            "Mounted at /content/gdrive\n"
          ],
          "name": "stdout"
        }
      ]
    },
    {
      "cell_type": "code",
      "metadata": {
        "id": "C5_aYC0DOIHm",
        "outputId": "79464560-b0ed-4bc4-8a31-5e64771af975"
      },
      "source": [
        "from music21 import converter, note, stream, duration\n",
        "\n",
        "# this should be a list of tuples\n",
        "# the tuples should be as follows: (r, m, l)\n",
        "# where r is a boolean being True if it is a rest note\n",
        "# m is a midi note number from 0-127 (it is ignored if r is true)\n",
        "# l is the length in 16ths (it should range from 1-16)\n",
        "notes = []\n",
        "\n",
        "# Colton fix this please, I'm not sure how to get the right directory for the midi songs from google drive\n",
        "# dos.mid is just a random one I chose\n",
        "input = converter.parse(\"midi_songs/dos.mid\").flat.elements\n",
        "\n",
        "# for each note in the input stream, turn it into a tuple\n",
        "# ignore anything that is not a note or a rest\n",
        "for n in input:\n",
        "    if isinstance(n, note.Note):\n",
        "        notes.append((False, n.pitch.midi, n.quarterLength * 4))\n",
        "    if isinstance(n, note.Rest):\n",
        "        notes.append((True, 0, n.quarterLength * 4))\n",
        "\n",
        "output = stream.Stream()\n",
        "\n",
        "for cur_note in notes:\n",
        "    new_note = None\n",
        "\n",
        "    if cur_note[0]:\n",
        "        new_note = note.Rest(duration=duration.Duration(cur_note[2]/4))\n",
        "    else:\n",
        "        new_note = note.Note(cur_note[1], duration=duration.Duration(cur_note[2]/4))\n",
        "    \n",
        "    output.append(new_note)\n",
        "\n",
        "output.show('midi')\n",
        "output.write('midi', fp='test.midi')"
      ],
      "execution_count": null,
      "outputs": [
        {
          "output_type": "stream",
          "text": [
            "music21: Certain music21 functions might need these optional packages: matplotlib, numpy;\n",
            "                   if you run into errors, install them by following the instructions at\n",
            "                   http://mit.edu/music21/doc/installing/installAdditional.html\n"
          ],
          "name": "stderr"
        },
        {
          "output_type": "display_data",
          "data": {
            "text/plain": [
              "<IPython.core.display.HTML object>"
            ],
            "text/html": [
              "\n",
              "                <div id='midiPlayerDiv8653'></div>\n",
              "                <link rel=\"stylesheet\" href=\"//cuthbertLab.github.io/music21j/css/m21.css\"\n",
              "                    type=\"text/css\" />\n",
              "                <script>\n",
              "                require.config({\n",
              "                    paths: {'music21': '//cuthbertLab.github.io/music21j/src/music21'}\n",
              "                });\n",
              "                require(['music21'], function() {\n",
              "                               mp = new music21.miditools.MidiPlayer();\n",
              "                               mp.addPlayer('#midiPlayerDiv8653');\n",
              "                               mp.base64Load('data:audio/midi;base64,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');\n",
              "                        });\n",
              "                </script>"
            ]
          },
          "metadata": {
            "tags": []
          }
        },
        {
          "output_type": "execute_result",
          "data": {
            "text/plain": [
              "'test.midi'"
            ]
          },
          "metadata": {
            "tags": []
          },
          "execution_count": 2
        }
      ]
    },
    {
      "cell_type": "code",
      "metadata": {
        "id": "ezic6CKxOIHn"
      },
      "source": [
        "import random\n",
        "from music21 import converter, stream, note, chord, duration\n",
        "\n",
        "'''\n",
        "1   ->  C4\n",
        "2   ->  D4\n",
        "3   ->  E4\n",
        "4   ->  F4\n",
        "5   ->  G4\n",
        "6   ->  A4\n",
        "7   ->  B4\n",
        "\n",
        "8   ->  C5\n",
        "9   ->  D5\n",
        "10  ->  E5\n",
        "11  ->  F5\n",
        "12  ->  G5\n",
        "13  ->  A5\n",
        "14  ->  B5\n",
        "'''\n",
        "def num_to_note_str(num):\n",
        "    # convert num from 1-14 to 0-6, so mod 7 \n",
        "    # however, after that C=1, A=6, B=0\n",
        "    # We want : A=0, B=1, C=2, etc\n",
        "    # So, add 1 and mod 7\n",
        "    letterAsciiOffset = ((num + 1) % 7)\n",
        "    A = 65\n",
        "    letter = chr(A + letterAsciiOffset)\n",
        "\n",
        "    numberAsciiOffset = (num - 1) // 7\n",
        "    _4 = 52\n",
        "    number = chr(_4 + numberAsciiOffset)\n",
        "\n",
        "    return str(letter) + str(number)\n",
        "\n",
        "n = 14              # number of allowed pitches\n",
        "k = 1 / 8           # shortest duration\n",
        "m = 4               # number of bars\n",
        "p = 8               # pulses per bar, cannot be more than 1 / k\n",
        "q = 1 / (p * k)     # one pulse has q shortest lengths\n",
        "\n",
        "# search space is (n + 2)^(m * p * q)\n",
        "# for 4 bars, and p = 8 , then the search space is 3.4 x 10^38\n",
        "\n",
        "# each value is in the range [0,n+1]\n",
        "# each value by default has k note length\n",
        "# if dna[i] = 0 then it is a break\n",
        "# if 1 <= dna[i] <= n, then it is a midi note in the range [R,n-1] where R is the reference note\n",
        "# if dna[i] = n + 1, then the previous note is lengthened by k\n",
        "#   i.e. to make a note last t*k duration, repeat n + 1 t times\n",
        "dna = []\n",
        "\n",
        "print(m * p * q)\n",
        "for i in range(0, int(m * p * q)):\n",
        "    dna.append(random.randint(0, n + 1))\n",
        "\n",
        "dna = [ 0, 3, 6, 7, 8, 15, 15, 7, 8, 7, 6, 5, 4, 15, 15, 15, 0, 4, 5, 6, 7, 15, 15, 6, 7, 6, 5, 4, 3, 15, 15, 15 ]\n",
        "\n",
        "# intermediate between msuci21 stream and dna\n",
        "# almost the same as dna, except that repeating n+1s are collapsed\n",
        "# into note length\n",
        "# score = [(note, length)] where 0 <= note <= n (0 is still a rest), length is in seconds\n",
        "score = []\n",
        "\n",
        "noteNum = 0     # current note being\n",
        "noteLength = 1  # length of note in k units\n",
        "\n",
        "for i in range(0, len(dna) + 1):\n",
        "    cur = -1\n",
        "    if (i < len(dna)):\n",
        "        cur = dna[i]\n",
        "\n",
        "    if i == (len(dna)) or 0 <= cur <= n:\n",
        "        if i > 0:\n",
        "            score.append((noteNum, noteLength * k * q))\n",
        "        noteNum = cur\n",
        "        noteLength = 1\n",
        "    elif cur == n + 1:\n",
        "        noteLength += 1\n",
        "\n",
        "output = stream.Stream()\n",
        "\n",
        "for n in score:\n",
        "    if n[0] == 0:\n",
        "        output.append(note.Rest(duration=duration.Duration(n[1] * 4)))\n",
        "    else:\n",
        "        output.append(note.Note(num_to_note_str(n[0]), duration=duration.Duration(n[1] * 4)))\n",
        "\n",
        "for n in output.flat.elements:\n",
        "    print(str(n) + ' ' + str(n.duration))\n",
        "\n",
        "output.write('midi', fp='/content/gdrive/Shareddrives/AI Winter 2021 Group Project/test.midi')"
      ],
      "execution_count": null,
      "outputs": []
    }
  ]
}