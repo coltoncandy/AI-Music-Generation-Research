{
  "nbformat": 4,
  "nbformat_minor": 0,
  "metadata": {
    "colab": {
      "name": "RENAME THIS ONE ANDY",
      "provenance": [],
      "collapsed_sections": [],
      "include_colab_link": true
    },
    "kernelspec": {
      "name": "python3",
      "display_name": "Python 3",
      "language": "python"
    }
  },
  "cells": [
    {
      "cell_type": "markdown",
      "metadata": {
        "id": "view-in-github",
        "colab_type": "text"
      },
      "source": [
        "<a href=\"https://colab.research.google.com/github/coltoncandy/AI-Music-Generation-Research/blob/tophers-branch/RENAME_THIS_ONE_ANDY.ipynb\" target=\"_parent\"><img src=\"https://colab.research.google.com/assets/colab-badge.svg\" alt=\"Open In Colab\"/></a>"
      ]
    },
    {
      "cell_type": "markdown",
      "metadata": {
        "id": "2cuam9t1ObNe"
      },
      "source": [
        "# Optional - mount Google Drive to load and store midi files\n",
        "\n",
        "*You can mount the google drive from the file menu instead of the first code cell*\n",
        "\n",
        "*If you use the first code cell, you must authenticate with the account that has access to the drive*\n",
        "\n",
        "***Please note that you may need to change the PROJECT_PATH variable to the directory***\n"
      ]
    },
    {
      "cell_type": "code",
      "metadata": {
        "id": "lPdyFi3GdJ-N",
        "colab": {
          "base_uri": "https://localhost:8080/"
        },
        "outputId": "2c626de5-9ead-4705-be90-5419b257ca2f"
      },
      "source": [
        "from google.colab import drive\n",
        "drive.mount('/content/gdrive', force_remount=True)\n",
        "PROJECT_PATH = \"/content/gdrive/Shareddrives/AI Winter 2021 Group Project/Genetic Algorithm 1.0.0\""
      ],
      "execution_count": 72,
      "outputs": [
        {
          "output_type": "stream",
          "text": [
            "Mounted at /content/gdrive\n"
          ],
          "name": "stdout"
        }
      ]
    },
    {
      "cell_type": "code",
      "metadata": {
        "id": "C5_aYC0DOIHm",
        "colab": {
          "base_uri": "https://localhost:8080/",
          "height": 35
        },
        "outputId": "12851f07-ba21-4d9e-f1ba-1199c19a48a5"
      },
      "source": [
        "from music21 import converter, note, stream, duration\n",
        "\n",
        "# this should be a list of tuples\n",
        "# the tuples should be as follows: (r, m, l)\n",
        "# where r is a boolean being True if it is a rest note\n",
        "# m is a midi note number from 0-127 (it is ignored if r is true)\n",
        "# l is the length in 16ths (it should range from 1-16)\n",
        "notes = []\n",
        "\n",
        "# Colton fix this please, I'm not sure how to get the right directory for the midi songs from google drive\n",
        "# dos.mid is just a random one I chose\n",
        "input = converter.parse(\"/content/gdrive/Shareddrives/AI Winter 2021 Group Project/midi_songs/DOS.mid\").flat.elements\n",
        "\n",
        "# for each note in the input stream, turn it into a tuple\n",
        "# ignore anything that is not a note or a rest\n",
        "for n in input:\n",
        "    if isinstance(n, note.Note):\n",
        "        notes.append((False, n.pitch.midi, n.quarterLength * 4))\n",
        "    if isinstance(n, note.Rest):\n",
        "        notes.append((True, 0, n.quarterLength * 4))\n",
        "\n",
        "output = stream.Stream()\n",
        "\n",
        "for cur_note in notes:\n",
        "    new_note = None\n",
        "\n",
        "    if cur_note[0]:\n",
        "        new_note = note.Rest(duration=duration.Duration(cur_note[2]/4))\n",
        "    else:\n",
        "        new_note = note.Note(cur_note[1], duration=duration.Duration(cur_note[2]/4))\n",
        "    \n",
        "    output.append(new_note)\n",
        "\n",
        "output.show('midi')\n",
        "output.write('midi', fp='/content/gdrive/Shareddrives/AI Winter 2021 Group Project/test.midi')"
      ],
      "execution_count": 73,
      "outputs": [
        {
          "output_type": "display_data",
          "data": {
            "text/html": [
              "\n",
              "                <div id='midiPlayerDiv270974'></div>\n",
              "                <link rel=\"stylesheet\" href=\"//cuthbertLab.github.io/music21j/css/m21.css\"\n",
              "                    type=\"text/css\" />\n",
              "                <script>\n",
              "                require.config({\n",
              "                    paths: {'music21': '//cuthbertLab.github.io/music21j/src/music21'}\n",
              "                });\n",
              "                require(['music21'], function() {\n",
              "                               mp = new music21.miditools.MidiPlayer();\n",
              "                               mp.addPlayer('#midiPlayerDiv270974');\n",
              "                               mp.base64Load('data:audio/midi;base64,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');\n",
              "                        });\n",
              "                </script>"
            ],
            "text/plain": [
              "<IPython.core.display.HTML object>"
            ]
          },
          "metadata": {
            "tags": []
          }
        },
        {
          "output_type": "execute_result",
          "data": {
            "application/vnd.google.colaboratory.intrinsic+json": {
              "type": "string"
            },
            "text/plain": [
              "'/content/gdrive/Shareddrives/AI Winter 2021 Group Project/test.midi'"
            ]
          },
          "metadata": {
            "tags": []
          },
          "execution_count": 73
        }
      ]
    },
    {
      "cell_type": "code",
      "metadata": {
        "id": "ezic6CKxOIHn",
        "colab": {
          "base_uri": "https://localhost:8080/",
          "height": 90
        },
        "outputId": "902ae13c-2763-451c-b7ce-5c6d378dbb86"
      },
      "source": [
        "import random, copy\n",
        "from music21 import converter, stream, note, chord, duration\n",
        "\n",
        "'''\n",
        "1   ->  C4\n",
        "2   ->  D4\n",
        "3   ->  E4\n",
        "4   ->  F4\n",
        "5   ->  G4\n",
        "6   ->  A4\n",
        "7   ->  B4\n",
        "\n",
        "8   ->  C5\n",
        "9   ->  D5\n",
        "10  ->  E5\n",
        "11  ->  F5\n",
        "12  ->  G5\n",
        "13  ->  A5\n",
        "14  ->  B5\n",
        "'''\n",
        "def num_to_note_str(num):\n",
        "    # convert num from 1-14 to 0-6, so mod 7 \n",
        "    # however, after that C=1, A=6, B=0\n",
        "    # We want : A=0, B=1, C=2, etc\n",
        "    # So, add 1 and mod 7\n",
        "    letterAsciiOffset = ((num + 1) % 7)\n",
        "    A = 65\n",
        "    letter = chr(A + letterAsciiOffset)\n",
        "\n",
        "    numberAsciiOffset = (num - 1) // 7\n",
        "    _4 = 52\n",
        "    number = chr(_4 + numberAsciiOffset)\n",
        "\n",
        "    return str(letter) + str(number)\n",
        "\n",
        "n = 14              # number of allowed pitches\n",
        "k = 1 / 8           # shortest duration\n",
        "m = 4               # number of bars\n",
        "p = 8               # pulses per bar, cannot be more than 1 / k\n",
        "q = 1 / (p * k)     # one pulse has q shortest lengths\n",
        "\n",
        "# search space is (n + 2)^(m * p * q)\n",
        "# for 4 bars, and p = 8 , then the search space is 3.4 x 10^38\n",
        "\n",
        "# each value is in the range [0,n+1]\n",
        "# each value by default has k note length\n",
        "# if dna[i] = 0 then it is a break\n",
        "# if 1 <= dna[i] <= n, then it is a midi note in the range [R,n-1] where R is the reference note\n",
        "# if dna[i] = n + 1, then the previous note is lengthened by k\n",
        "#   i.e. to make a note last t*k duration, repeat n + 1 t times\n",
        "dna = []\n",
        "\n",
        "print(m * p * q)\n",
        "for i in range(0, int(m * p * q)):\n",
        "    dna.append(random.randint(0, n + 1))\n",
        "\n",
        "dna = [ 0, 3, 6, 7, 8, 15, 15, 7, 8, 7, 6, 5, 4, 15, 15, 15, 0, 4, 5, 6, 7, 15, 15, 6, 7, 6, 5, 4, 3, 15, 15, 15 ]\n",
        "\n",
        "\n",
        "\"\"\"\n",
        "#fitness value calculator:\n",
        "fitnessScore = 0\n",
        "for i in range(len(dna) - 1):\n",
        "    if (i % 4 == 0 and (dna[i] == 0 or dna[i] == 15)):    #try to have notes on beats\n",
        "        fitnessScore -= 2\n",
        "    if (dna[i] != 15 and dna[i] != 0 and dna[i+1] != 15 and dna[i+1] != 0):     #avoid note jumps of > 9, and approve of note jumps of <= 2\n",
        "        if (abs(dna[i] - dna[i + 1]) < 2):\n",
        "            fitnessScore += 1\n",
        "        if (abs(dna[i] - dna[i + 1]) > 9):\n",
        "            fitnessScore -= 1\n",
        "    #following statements make extended notes follow normal rules\n",
        "    if (dna[i] != 15 and dna[i] != 0 and dna[i+1] == 15):    #consider note jumps across note continuations\n",
        "        temp = 1\n",
        "        while ((i + temp) < len(dna) and dna[i + temp] == 15):    #continue until the continuation ends\n",
        "            temp += 1\n",
        "        if (i + temp < len(dna) and dna[i + temp] != 0):     #if we didn't go over the end, and didn't follow the long note with a rest, check note jump scores\n",
        "            if (abs(dna[i] - dna[i + temp]) < 2):\n",
        "                fitnessScore += 1\n",
        "            if (abs(dna[i] - dna[i + temp]) > 9):\n",
        "                fitnessScore -= 1\n",
        "    #following statements make extended notes give a bonus for *not* staying near the original note after they end\n",
        "    if (dna[i] != 15 and dna[i] != 0 and dna[i+1] == 15):    #consider note jumps across note continuations\n",
        "        temp = 1\n",
        "        while ((i + temp) < len(dna) and dna[i + temp] == 15):    #continue until the continuation ends\n",
        "            temp += 1\n",
        "        if (i + temp < len(dna) and dna[i + temp] != 0):     #if we didn't go over the end, and didn't follow the long note with a rest, check note jump scores\n",
        "            if (abs(dna[i] - dna[i + temp]) > 4):\n",
        "                fitnessScore += 1\n",
        "    #alternatively, not having any additional code makes extended notes have no effect on note jump score \n",
        "# print(\"Fitness score = \" + str(fitnessScore))\n",
        "print(\"Fitness score = {:3}\".format(fitnessScore))  #makes it so that the number lines up on the right hand side\n",
        "\"\"\"\n",
        "\n",
        "\n",
        "def randomData(m, p, q):\n",
        "    data = []\n",
        "    for i in range(0, int(m * p * q)):\n",
        "        data.append(random.randint(0, n + 1))\n",
        "\n",
        "    return data\n",
        "\n",
        "\n",
        "class DNA:\n",
        "    def __init__(self, data):\n",
        "        self.data = copy.deepcopy(data)\n",
        "        self.stream = stream.Stream()\n",
        "\n",
        "        self.getScore()\n",
        "\n",
        "\n",
        "    def getScore(self):\n",
        "        self.score = []\n",
        "\n",
        "        noteNum = 0     # current note being\n",
        "        noteLength = 1  # length of note in k units\n",
        "        for i in range(0, len(self.data) + 1):\n",
        "            cur = -1\n",
        "            if (i < len(self.data)):\n",
        "                cur = self.data[i]\n",
        "\n",
        "            if i == (len(self.data)) or 0 <= cur <= n:\n",
        "                if i > 0:\n",
        "                    self.score.append((noteNum, noteLength * k * q))\n",
        "                noteNum = cur\n",
        "                noteLength = 1\n",
        "            elif cur == n + 1:\n",
        "                noteLength += 1\n",
        "\n",
        "\n",
        "    def getM21Stream(self):\n",
        "        output = stream.Stream()\n",
        "\n",
        "        for n in self.score:\n",
        "            if n[0] == 0:\n",
        "                output.append(note.Rest(duration=duration.Duration(n[1] * 4)))\n",
        "            else:\n",
        "                output.append(note.Note(num_to_note_str(n[0]), duration=duration.Duration(n[1] * 4)))\n",
        "\n",
        "        return output\n",
        "\n",
        "    \n",
        "    def getFitnessScore(self):\n",
        "        #fitness value calculator:\n",
        "        fitnessScore = 0\n",
        "        extendedNoteCount = 0\n",
        "        restCount = 0\n",
        "        if (self.data[0] == 0):\n",
        "            restCount += 1\n",
        "            fitnessScore -= 1\n",
        "        for i in range(len(self.data) - 1):\n",
        "            if (i % 4 == 0 and (self.data[i] == 0 or self.data[i] == 15)):    #try to have notes on beats\n",
        "                fitnessScore -= 2\n",
        "            if (self.data[i] != 15 and self.data[i] != 0 and self.data[i+1] != 15 and self.data[i+1] != 0):     #avoid note jumps of > 9, and approve of note jumps of <= 2\n",
        "                if (abs(self.data[i] - self.data[i + 1]) < 2):\n",
        "                    fitnessScore += 1\n",
        "                if (abs(self.data[i] - self.data[i + 1]) > 9):\n",
        "                    fitnessScore -= 1\n",
        "            if (self.data[i + 1] == 0):\n",
        "                restCount += 1\n",
        "                if (i + 1 == len(self.data)):\n",
        "                    fitnessScore -= 1\n",
        "            #following statement makes extended notes follow normal rules\n",
        "            if (self.data[i] != 15 and self.data[i] != 0 and self.data[i+1] == 15):    #consider note jumps across note continuations\n",
        "                extendedNoteCount += 1\n",
        "                temp = 1\n",
        "                while ((i + temp) < len(self.data) and self.data[i + temp] == 15):    #continue until the continuation ends\n",
        "                    temp += 1\n",
        "                if (i + temp < len(self.data) and self.data[i + temp] != 0):     #if we didn't go over the end, and didn't follow the long note with a rest, check note jump scores\n",
        "                    if (abs(self.data[i] - self.data[i + temp]) < 2):\n",
        "                        fitnessScore += 1\n",
        "                    if (abs(self.data[i] - self.data[i + temp]) > 9):\n",
        "                        fitnessScore -= 1\n",
        "            \"\"\"\n",
        "            #following statement makes extended notes give a bonus for *not* staying near the original note after they end\n",
        "            if (self.data[i] != 15 and self.data[i] != 0 and self.data[i+1] == 15):    #consider note jumps across note continuations\n",
        "                extendedNoteCount += 1\n",
        "                temp = 1\n",
        "                while ((i + temp) < len(self.data) and self.data[i + temp] == 15):    #continue until the continuation ends\n",
        "                    temp += 1\n",
        "                if (i + temp < len(self.data) and self.data[i + temp] != 0):     #if we didn't go over the end, and didn't follow the long note with a rest, check note jump scores\n",
        "                    if (abs(self.data[i] - self.data[i + temp]) > 4):\n",
        "                        fitnessScore += 1\n",
        "            \"\"\"\n",
        "            \"\"\"\n",
        "            #alternatively, not having any additional code makes extended notes have no effect on note jump score \n",
        "            \"\"\"\n",
        "        if (extendedNoteCount < 3):     #if we have a very small number of extended notes, penalize the score\n",
        "            fitnessScore -= (6 - (2 * extendedNoteCount)) \n",
        "        if (restCount < 3):     #if we have a very small number of rests, penalize the score\n",
        "            fitnessScore -= (9 - (3 * restCount)) \n",
        "        # print(\"Fitness score = \" + str(fitnessScore))\n",
        "        # print(\"Fitness score = {:3}\".format(fitnessScore))  #makes it so that the number lines up on the right hand side\n",
        "\n",
        "        return (fitnessScore)\n",
        "\n",
        "\n",
        "dna = DNA(randomData(m, p, q))\n",
        "print(dna.data)\n",
        "print(\"Fitness score = {:3}\".format(dna.getFitnessScore()))  #makes it so that the number lines up on the right hand side\n",
        "dna.getM21Stream().write('midi', 'test.mid')"
      ],
      "execution_count": 74,
      "outputs": [
        {
          "output_type": "stream",
          "text": [
            "32.0\n",
            "[1, 7, 7, 3, 10, 9, 12, 0, 11, 13, 10, 9, 12, 15, 8, 3, 0, 5, 5, 9, 8, 1, 0, 8, 7, 11, 8, 13, 7, 5, 3, 15]\n",
            "Fitness score =   2\n"
          ],
          "name": "stdout"
        },
        {
          "output_type": "execute_result",
          "data": {
            "application/vnd.google.colaboratory.intrinsic+json": {
              "type": "string"
            },
            "text/plain": [
              "'test.mid'"
            ]
          },
          "metadata": {
            "tags": []
          },
          "execution_count": 74
        }
      ]
    }
  ]
}