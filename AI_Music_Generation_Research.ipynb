{
  "nbformat": 4,
  "nbformat_minor": 0,
  "metadata": {
    "colab": {
      "name": "AI Music Generation Research",
      "provenance": [],
      "include_colab_link": true
    },
    "kernelspec": {
      "name": "python3",
      "display_name": "Python 3"
    }
  },
  "cells": [
    {
      "cell_type": "markdown",
      "metadata": {
        "id": "view-in-github",
        "colab_type": "text"
      },
      "source": [
        "<a href=\"https://colab.research.google.com/github/coltoncandy/AI-Music-Generation-Research/blob/andys-branch/AI_Music_Generation_Research.ipynb\" target=\"_parent\"><img src=\"https://colab.research.google.com/assets/colab-badge.svg\" alt=\"Open In Colab\"/></a>"
      ]
    },
    {
      "cell_type": "code",
      "metadata": {
        "colab": {
          "base_uri": "https://localhost:8080/"
        },
        "id": "lPdyFi3GdJ-N",
        "outputId": "272303ff-87f3-429a-d39e-ad15332f8db0"
      },
      "source": [
        "for x in range(0, 10):\r\n",
        "  print(str(x) + \" TEST\")"
      ],
      "execution_count": 6,
      "outputs": [
        {
          "output_type": "stream",
          "text": [
            "0 TEST\n",
            "1 TEST\n",
            "2 TEST\n",
            "3 TEST\n",
            "4 TEST\n",
            "5 TEST\n",
            "6 TEST\n",
            "7 TEST\n",
            "8 TEST\n",
            "9 TEST\n"
          ],
          "name": "stdout"
        }
      ]
    }
  ]
}